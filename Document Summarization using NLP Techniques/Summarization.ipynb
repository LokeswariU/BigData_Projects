{
 "cells": [
  {
   "cell_type": "code",
   "execution_count": 1,
   "metadata": {},
   "outputs": [
    {
     "data": {
      "application/vnd.jupyter.widget-view+json": {
       "model_id": "ab38a02c4c0042b1a6e69eba877d1823",
       "version_major": 2,
       "version_minor": 0
      },
      "text/plain": [
       "VBox()"
      ]
     },
     "metadata": {},
     "output_type": "display_data"
    },
    {
     "name": "stdout",
     "output_type": "stream",
     "text": [
      "Starting Spark application\n"
     ]
    },
    {
     "data": {
      "text/html": [
       "<table>\n",
       "<tr><th>ID</th><th>YARN Application ID</th><th>Kind</th><th>State</th><th>Spark UI</th><th>Driver log</th><th>Current session?</th></tr><tr><td>21</td><td>application_1588697418736_0022</td><td>pyspark</td><td>idle</td><td><a target=\"_blank\" href=\"http://ip-172-31-88-113.ec2.internal:20888/proxy/application_1588697418736_0022/\">Link</a></td><td><a target=\"_blank\" href=\"http://ip-172-31-88-113.ec2.internal:8042/node/containerlogs/container_1588697418736_0022_01_000001/livy\">Link</a></td><td>✔</td></tr></table>"
      ],
      "text/plain": [
       "<IPython.core.display.HTML object>"
      ]
     },
     "metadata": {},
     "output_type": "display_data"
    },
    {
     "data": {
      "application/vnd.jupyter.widget-view+json": {
       "model_id": "",
       "version_major": 2,
       "version_minor": 0
      },
      "text/plain": [
       "FloatProgress(value=0.0, bar_style='info', description='Progress:', layout=Layout(height='25px', width='50%'),…"
      ]
     },
     "metadata": {},
     "output_type": "display_data"
    },
    {
     "name": "stdout",
     "output_type": "stream",
     "text": [
      "SparkSession available as 'spark'.\n"
     ]
    },
    {
     "data": {
      "application/vnd.jupyter.widget-view+json": {
       "model_id": "",
       "version_major": 2,
       "version_minor": 0
      },
      "text/plain": [
       "FloatProgress(value=0.0, bar_style='info', description='Progress:', layout=Layout(height='25px', width='50%'),…"
      ]
     },
     "metadata": {},
     "output_type": "display_data"
    },
    {
     "name": "stderr",
     "output_type": "stream",
     "text": [
      "Package already installed for current Spark context!\n",
      "Traceback (most recent call last):\n",
      "  File \"/usr/lib/spark/python/lib/pyspark.zip/pyspark/context.py\", line 1110, in install_pypi_package\n",
      "    raise ValueError(\"Package already installed for current Spark context!\")\n",
      "ValueError: Package already installed for current Spark context!\n",
      "\n"
     ]
    }
   ],
   "source": [
    "sc.install_pypi_package(\"matplotlib\")\n",
    "sc.install_pypi_package(\"requests\")\n",
    "sc.install_pypi_package(\"sklearn\")\n",
    "sc.install_pypi_package(\"rouge\")\n",
    "sc.install_pypi_package(\"s3fs\")\n",
    "sc.install_pypi_package(\"boto3\")\n",
    "sc.install_pypi_package(\"networkx\")\n",
    "sc.install_pypi_package(\"boto3\")\n"
   ]
  },
  {
   "cell_type": "code",
   "execution_count": 2,
   "metadata": {},
   "outputs": [
    {
     "data": {
      "application/vnd.jupyter.widget-view+json": {
       "model_id": "266a3615ddbc4d309f764feadca8156d",
       "version_major": 2,
       "version_minor": 0
      },
      "text/plain": [
       "VBox()"
      ]
     },
     "metadata": {},
     "output_type": "display_data"
    },
    {
     "data": {
      "application/vnd.jupyter.widget-view+json": {
       "model_id": "",
       "version_major": 2,
       "version_minor": 0
      },
      "text/plain": [
       "FloatProgress(value=0.0, bar_style='info', description='Progress:', layout=Layout(height='25px', width='50%'),…"
      ]
     },
     "metadata": {},
     "output_type": "display_data"
    },
    {
     "name": "stdout",
     "output_type": "stream",
     "text": [
      "Processing /mnt/var/lib/livy/.cache/pip/wheels/a4/5b/9a/2886f984445146fa94b3629de3ad6e5c1d4b931285716461bb/pyrouge-0.1.3-py3-none-any.whl\n",
      "Installing collected packages: pyrouge\n",
      "Successfully installed pyrouge-0.1.3\n",
      "\n",
      "Collecting IPython\n",
      "  Using cached ipython-7.14.0-py3-none-any.whl (782 kB)\n",
      "Collecting traitlets>=4.2\n",
      "  Using cached traitlets-4.3.3-py2.py3-none-any.whl (75 kB)\n",
      "Collecting pexpect; sys_platform != \"win32\"\n",
      "  Using cached pexpect-4.8.0-py2.py3-none-any.whl (59 kB)\n",
      "Requirement already satisfied: decorator in /mnt/tmp/1588967914699-0/lib/python3.6/site-packages (from IPython) (4.4.2)\n",
      "Collecting pygments\n",
      "  Using cached Pygments-2.6.1-py3-none-any.whl (914 kB)\n",
      "Collecting pickleshare\n",
      "  Using cached pickleshare-0.7.5-py2.py3-none-any.whl (6.9 kB)\n",
      "Processing /mnt/var/lib/livy/.cache/pip/wheels/b4/cb/f1/d142b3bb45d488612cf3943d8a1db090eb95e6687045ba61d1/backcall-0.1.0-py3-none-any.whl\n",
      "Collecting prompt-toolkit!=3.0.0,!=3.0.1,<3.1.0,>=2.0.0\n",
      "  Using cached prompt_toolkit-3.0.5-py3-none-any.whl (351 kB)\n",
      "Requirement already satisfied: setuptools>=18.5 in /mnt/tmp/1588967914699-0/lib/python3.6/site-packages (from IPython) (46.1.3)\n",
      "Collecting jedi>=0.10\n",
      "  Using cached jedi-0.17.0-py2.py3-none-any.whl (1.1 MB)\n",
      "Collecting ipython-genutils\n",
      "  Using cached ipython_genutils-0.2.0-py2.py3-none-any.whl (26 kB)\n",
      "Requirement already satisfied: six in /usr/local/lib/python3.6/site-packages (from traitlets>=4.2->IPython) (1.13.0)\n",
      "Collecting ptyprocess>=0.5\n",
      "  Using cached ptyprocess-0.6.0-py2.py3-none-any.whl (39 kB)\n",
      "Collecting wcwidth\n",
      "  Using cached wcwidth-0.1.9-py2.py3-none-any.whl (19 kB)\n",
      "Collecting parso>=0.7.0\n",
      "  Using cached parso-0.7.0-py2.py3-none-any.whl (100 kB)\n",
      "Installing collected packages: ipython-genutils, traitlets, ptyprocess, pexpect, pygments, pickleshare, backcall, wcwidth, prompt-toolkit, parso, jedi, IPython\n",
      "Successfully installed IPython-7.14.0 backcall-0.1.0 ipython-genutils-0.2.0 jedi-0.17.0 parso-0.7.0 pexpect-4.8.0 pickleshare-0.7.5 prompt-toolkit-3.0.5 ptyprocess-0.6.0 pygments-2.6.1 traitlets-4.3.3 wcwidth-0.1.9\n",
      "\n",
      "Requirement already satisfied: numpy in /usr/local/lib64/python3.6/site-packages (1.14.5)"
     ]
    }
   ],
   "source": [
    "sc.install_pypi_package(\"pyrouge\")\n",
    "sc.install_pypi_package(\"IPython\")\n",
    "sc.install_pypi_package(\"numpy\")"
   ]
  },
  {
   "cell_type": "code",
   "execution_count": 3,
   "metadata": {},
   "outputs": [
    {
     "data": {
      "application/vnd.jupyter.widget-view+json": {
       "model_id": "0f0c6ed9cf6345eea236548cd1d8108e",
       "version_major": 2,
       "version_minor": 0
      },
      "text/plain": [
       "VBox()"
      ]
     },
     "metadata": {},
     "output_type": "display_data"
    },
    {
     "data": {
      "application/vnd.jupyter.widget-view+json": {
       "model_id": "",
       "version_major": 2,
       "version_minor": 0
      },
      "text/plain": [
       "FloatProgress(value=0.0, bar_style='info', description='Progress:', layout=Layout(height='25px', width='50%'),…"
      ]
     },
     "metadata": {},
     "output_type": "display_data"
    },
    {
     "name": "stdout",
     "output_type": "stream",
     "text": [
      "Collecting pandas\n",
      "  Using cached pandas-1.0.3-cp36-cp36m-manylinux1_x86_64.whl (10.0 MB)\n",
      "Requirement already satisfied: python-dateutil>=2.6.1 in /mnt/tmp/1588967914699-0/lib/python3.6/site-packages (from pandas) (2.8.1)\n",
      "Requirement already satisfied: numpy>=1.13.3 in /usr/local/lib64/python3.6/site-packages (from pandas) (1.14.5)\n",
      "Requirement already satisfied: pytz>=2017.2 in /usr/local/lib/python3.6/site-packages (from pandas) (2019.3)\n",
      "Requirement already satisfied: six>=1.5 in /usr/local/lib/python3.6/site-packages (from python-dateutil>=2.6.1->pandas) (1.13.0)\n",
      "Installing collected packages: pandas\n",
      "Successfully installed pandas-1.0.3"
     ]
    }
   ],
   "source": [
    "sc.install_pypi_package(\"pandas\")"
   ]
  },
  {
   "cell_type": "code",
   "execution_count": 4,
   "metadata": {},
   "outputs": [
    {
     "data": {
      "application/vnd.jupyter.widget-view+json": {
       "model_id": "877406cc862348b2906863d77b9b46c7",
       "version_major": 2,
       "version_minor": 0
      },
      "text/plain": [
       "VBox()"
      ]
     },
     "metadata": {},
     "output_type": "display_data"
    },
    {
     "data": {
      "application/vnd.jupyter.widget-view+json": {
       "model_id": "",
       "version_major": 2,
       "version_minor": 0
      },
      "text/plain": [
       "FloatProgress(value=0.0, bar_style='info', description='Progress:', layout=Layout(height='25px', width='50%'),…"
      ]
     },
     "metadata": {},
     "output_type": "display_data"
    }
   ],
   "source": [
    "from IPython.display import display\n",
    "from pylab import *\n",
    "import numpy as np"
   ]
  },
  {
   "cell_type": "code",
   "execution_count": 5,
   "metadata": {},
   "outputs": [
    {
     "data": {
      "application/vnd.jupyter.widget-view+json": {
       "model_id": "c190a88b8a174428827038d77474df82",
       "version_major": 2,
       "version_minor": 0
      },
      "text/plain": [
       "VBox()"
      ]
     },
     "metadata": {},
     "output_type": "display_data"
    },
    {
     "data": {
      "application/vnd.jupyter.widget-view+json": {
       "model_id": "",
       "version_major": 2,
       "version_minor": 0
      },
      "text/plain": [
       "FloatProgress(value=0.0, bar_style='info', description='Progress:', layout=Layout(height='25px', width='50%'),…"
      ]
     },
     "metadata": {},
     "output_type": "display_data"
    }
   ],
   "source": [
    "import s3fs\n",
    "import matplotlib.pyplot as plotting\n",
    "import boto3\n",
    "from pyspark.sql.functions import trim\n",
    "from pyspark.sql.functions import regexp_replace, col\n",
    "from pyspark.sql.types import *\n",
    "from pyspark.sql import SQLContext\n",
    "from sklearn.feature_extraction.text import *\n",
    "from nltk.tokenize.punkt import PunktSentenceTokenizer\n",
    "import networkx as netx\n",
    "import pandas\n",
    "import nltk\n",
    "import bs4 as BeautifulSoup\n",
    "import urllib.request\n",
    "import rouge\n",
    "import requests\n",
    "from rouge import Rouge \n"
   ]
  },
  {
   "cell_type": "code",
   "execution_count": 6,
   "metadata": {},
   "outputs": [
    {
     "data": {
      "application/vnd.jupyter.widget-view+json": {
       "model_id": "2ed64f253b604933b1da78f1e3b27310",
       "version_major": 2,
       "version_minor": 0
      },
      "text/plain": [
       "VBox()"
      ]
     },
     "metadata": {},
     "output_type": "display_data"
    },
    {
     "data": {
      "application/vnd.jupyter.widget-view+json": {
       "model_id": "",
       "version_major": 2,
       "version_minor": 0
      },
      "text/plain": [
       "FloatProgress(value=0.0, bar_style='info', description='Progress:', layout=Layout(height='25px', width='50%'),…"
      ]
     },
     "metadata": {},
     "output_type": "display_data"
    }
   ],
   "source": [
    "# lists that store the metrics after summeries are generated\n",
    "my_metric_precision =[]\n",
    "my_metric_recall =[]\n",
    "my_metric_fstat = []"
   ]
  },
  {
   "cell_type": "code",
   "execution_count": 7,
   "metadata": {},
   "outputs": [
    {
     "data": {
      "application/vnd.jupyter.widget-view+json": {
       "model_id": "bce8e3fe99614b919b0ba4becddaa347",
       "version_major": 2,
       "version_minor": 0
      },
      "text/plain": [
       "VBox()"
      ]
     },
     "metadata": {},
     "output_type": "display_data"
    },
    {
     "data": {
      "application/vnd.jupyter.widget-view+json": {
       "model_id": "",
       "version_major": 2,
       "version_minor": 0
      },
      "text/plain": [
       "FloatProgress(value=0.0, bar_style='info', description='Progress:', layout=Layout(height='25px', width='50%'),…"
      ]
     },
     "metadata": {},
     "output_type": "display_data"
    }
   ],
   "source": [
    "# tokenizes each line passed \n",
    "def getTokensForEachSentence(sentence):\n",
    "    line = ' '.join(sentence.strip().split('\\n'))\n",
    "    tokenizer_line = PunktSentenceTokenizer()\n",
    "    new_lines = tokenizer_line.tokenize(line)\n",
    "    return new_lines"
   ]
  },
  {
   "cell_type": "code",
   "execution_count": 8,
   "metadata": {},
   "outputs": [
    {
     "data": {
      "application/vnd.jupyter.widget-view+json": {
       "model_id": "77f9d0b76bfa403cb54f4af89e1f3a02",
       "version_major": 2,
       "version_minor": 0
      },
      "text/plain": [
       "VBox()"
      ]
     },
     "metadata": {},
     "output_type": "display_data"
    },
    {
     "data": {
      "application/vnd.jupyter.widget-view+json": {
       "model_id": "",
       "version_major": 2,
       "version_minor": 0
      },
      "text/plain": [
       "FloatProgress(value=0.0, bar_style='info', description='Progress:', layout=Layout(height='25px', width='50%'),…"
      ]
     },
     "metadata": {},
     "output_type": "display_data"
    }
   ],
   "source": [
    "# converts a collection of text documents to vectors of token counts\n",
    "def applyCountVectorizerForLine(sentence):\n",
    "    countVector = CountVectorizer().fit_transform(sentence).toarray()\n",
    "    return countVector"
   ]
  },
  {
   "cell_type": "code",
   "execution_count": 9,
   "metadata": {},
   "outputs": [
    {
     "data": {
      "application/vnd.jupyter.widget-view+json": {
       "model_id": "88e4ed31d897458cac15a1a33260f8d0",
       "version_major": 2,
       "version_minor": 0
      },
      "text/plain": [
       "VBox()"
      ]
     },
     "metadata": {},
     "output_type": "display_data"
    },
    {
     "data": {
      "application/vnd.jupyter.widget-view+json": {
       "model_id": "",
       "version_major": 2,
       "version_minor": 0
      },
      "text/plain": [
       "FloatProgress(value=0.0, bar_style='info', description='Progress:', layout=Layout(height='25px', width='50%'),…"
      ]
     },
     "metadata": {},
     "output_type": "display_data"
    }
   ],
   "source": [
    "# generates the tf-idf value for each term which reflect the importance of a term to a document in the corpus\n",
    "def getTFIDFScores(elements):\n",
    "    normalizedMatrix = TfidfTransformer().fit_transform(elements)\n",
    "    return (normalizedMatrix * normalizedMatrix.T)"
   ]
  },
  {
   "cell_type": "code",
   "execution_count": 10,
   "metadata": {},
   "outputs": [
    {
     "data": {
      "application/vnd.jupyter.widget-view+json": {
       "model_id": "c1f5a18e4ed248c391fd9631564ce4b6",
       "version_major": 2,
       "version_minor": 0
      },
      "text/plain": [
       "VBox()"
      ]
     },
     "metadata": {},
     "output_type": "display_data"
    },
    {
     "data": {
      "application/vnd.jupyter.widget-view+json": {
       "model_id": "",
       "version_major": 2,
       "version_minor": 0
      },
      "text/plain": [
       "FloatProgress(value=0.0, bar_style='info', description='Progress:', layout=Layout(height='25px', width='50%'),…"
      ]
     },
     "metadata": {},
     "output_type": "display_data"
    }
   ],
   "source": [
    "# Creates a new graph from an adjacency matrix and applies page rank algorthim to it\n",
    "def getPageRankScores(elements):\n",
    "    mySparseGraph = netx.from_scipy_sparse_matrix(elements)\n",
    "    ranks = netx.pagerank(mySparseGraph)\n",
    "    return ranks"
   ]
  },
  {
   "cell_type": "code",
   "execution_count": 11,
   "metadata": {},
   "outputs": [
    {
     "data": {
      "application/vnd.jupyter.widget-view+json": {
       "model_id": "47a74f837ad84e54baa57e939b666be4",
       "version_major": 2,
       "version_minor": 0
      },
      "text/plain": [
       "VBox()"
      ]
     },
     "metadata": {},
     "output_type": "display_data"
    },
    {
     "data": {
      "application/vnd.jupyter.widget-view+json": {
       "model_id": "",
       "version_major": 2,
       "version_minor": 0
      },
      "text/plain": [
       "FloatProgress(value=0.0, bar_style='info', description='Progress:', layout=Layout(height='25px', width='50%'),…"
      ]
     },
     "metadata": {},
     "output_type": "display_data"
    }
   ],
   "source": [
    "from rouge import Rouge\n",
    "# uses rouge and evaluates the performance of the summerization\n",
    "def prepareScore(generateDF, abstractDF, n, outputDF):\n",
    "    for aggregator in ['Average']:\n",
    "        print('Analysis of the generated summary with reference summary using {}'.format(aggregator),\"for the Model-\", n)\n",
    "        AvgScore = aggregator == 'Average'\n",
    "        BestScore = aggregator == 'Best'\n",
    "\n",
    "        rouge = Rouge()\n",
    "\n",
    "        assume=[]\n",
    "        for rowId, row in generateDF.iterrows():\n",
    "            assume.append(row['generated'])\n",
    "\n",
    "        ref=[]\n",
    "        for rowId, row in abstractDF.iterrows():\n",
    "            ref.append(row['summary'])\n",
    "\n",
    "        outputs = rouge.get_scores(assume, ref, avg = True)\n",
    "\n",
    "        for metricType in (outputs.items()):\n",
    "            outputDF = outputDF.append({'Best/Average': 'Average', 'Metric':metricType[0], 'ModelNumber':n, 'Precision': 100 * metricType[1]['p'], 'F-stat': 100 * metricType[1]['f'],  'Recall': 100 * metricType[1]['r'] }, ignore_index=True)\n",
    "            if metricType[0] == 'rouge-l' and aggregator == 'Average':\n",
    "                my_metric_precision.append(100 *  metricType[1]['p'])\n",
    "                my_metric_recall.append(100 *  metricType[1]['r'])\n",
    "                my_metric_fstat.append(100 *  metricType[1]['f'])\n",
    "    return outputDF"
   ]
  },
  {
   "cell_type": "code",
   "execution_count": 12,
   "metadata": {},
   "outputs": [
    {
     "data": {
      "application/vnd.jupyter.widget-view+json": {
       "model_id": "84635df284ef479087e77dcd293b3bae",
       "version_major": 2,
       "version_minor": 0
      },
      "text/plain": [
       "VBox()"
      ]
     },
     "metadata": {},
     "output_type": "display_data"
    },
    {
     "data": {
      "application/vnd.jupyter.widget-view+json": {
       "model_id": "",
       "version_major": 2,
       "version_minor": 0
      },
      "text/plain": [
       "FloatProgress(value=0.0, bar_style='info', description='Progress:', layout=Layout(height='25px', width='50%'),…"
      ]
     },
     "metadata": {},
     "output_type": "display_data"
    }
   ],
   "source": [
    "# read the input from s3 bucket\n",
    "news = spark.read.format('csv').options(header='true', inferSchema='true', mode =\"DROPMALFORMED\").load('s3://bigdata-project-summary/news_summary.csv')\n",
    "# drop the null values if any\n",
    "news = news.dropna()\n"
   ]
  },
  {
   "cell_type": "code",
   "execution_count": 13,
   "metadata": {},
   "outputs": [
    {
     "data": {
      "application/vnd.jupyter.widget-view+json": {
       "model_id": "acbd729ece1b40e1aacc6d0131e20aa6",
       "version_major": 2,
       "version_minor": 0
      },
      "text/plain": [
       "VBox()"
      ]
     },
     "metadata": {},
     "output_type": "display_data"
    },
    {
     "data": {
      "application/vnd.jupyter.widget-view+json": {
       "model_id": "",
       "version_major": 2,
       "version_minor": 0
      },
      "text/plain": [
       "FloatProgress(value=0.0, bar_style='info', description='Progress:', layout=Layout(height='25px', width='50%'),…"
      ]
     },
     "metadata": {},
     "output_type": "display_data"
    }
   ],
   "source": [
    "news_subset = pandas.DataFrame(columns=['summary', 'text'])\n",
    "news_pandas = news.toPandas()"
   ]
  },
  {
   "cell_type": "code",
   "execution_count": 14,
   "metadata": {},
   "outputs": [
    {
     "data": {
      "application/vnd.jupyter.widget-view+json": {
       "model_id": "49e3e28b0cf149a392f051d4fab1d946",
       "version_major": 2,
       "version_minor": 0
      },
      "text/plain": [
       "VBox()"
      ]
     },
     "metadata": {},
     "output_type": "display_data"
    },
    {
     "data": {
      "application/vnd.jupyter.widget-view+json": {
       "model_id": "",
       "version_major": 2,
       "version_minor": 0
      },
      "text/plain": [
       "FloatProgress(value=0.0, bar_style='info', description='Progress:', layout=Layout(height='25px', width='50%'),…"
      ]
     },
     "metadata": {},
     "output_type": "display_data"
    }
   ],
   "source": [
    "# read the URL for each document and gets the respective data from the URL\n",
    "for row in news_pandas.iterrows():\n",
    "    url = row[1][3]\n",
    "    text = row[1][4]\n",
    "    try:\n",
    "        request = requests.get(url)\n",
    "        fetched_data = urllib.request.urlopen(url)\n",
    "        article_read = fetched_data.read()\n",
    "        article_parsed = BeautifulSoup.BeautifulSoup(article_read,'html.parser')\n",
    "        paragraphs = article_parsed.find_all('p')\n",
    "        article_content = ''\n",
    "        for p in paragraphs:\n",
    "            article_content += p.text\n",
    "        news_subset = news_subset.append({'summary': text, 'text': article_content}, ignore_index=True)\n",
    "    except:\n",
    "        continue\n"
   ]
  },
  {
   "cell_type": "code",
   "execution_count": 50,
   "metadata": {},
   "outputs": [
    {
     "data": {
      "application/vnd.jupyter.widget-view+json": {
       "model_id": "2b671698b80c48fea6cb65a358d6ed43",
       "version_major": 2,
       "version_minor": 0
      },
      "text/plain": [
       "VBox()"
      ]
     },
     "metadata": {},
     "output_type": "display_data"
    },
    {
     "data": {
      "application/vnd.jupyter.widget-view+json": {
       "model_id": "",
       "version_major": 2,
       "version_minor": 0
      },
      "text/plain": [
       "FloatProgress(value=0.0, bar_style='info', description='Progress:', layout=Layout(height='25px', width='50%'),…"
      ]
     },
     "metadata": {},
     "output_type": "display_data"
    },
    {
     "name": "stdout",
     "output_type": "stream",
     "text": [
      "                                               summary                                               text\n",
      "0    \"The members of a Norwegian anti-immigrant gro...  Comments posted on Norwegian ‘Fatherland first...\n",
      "1    Investigators have released pictures showing h...  Pilots mistook the taxiway at San Francisco In...\n",
      "2    Two sunbathers, a 56-year-old man and an eight...  Portuguese media says 56-year-old man and eigh...\n",
      "3    Abu Ismail, mastermind of the Amarnath Yatra a...   Jump to navigationSpeak NowSlain Lashkar-e-Ta...\n",
      "4    \"A self-styled email prankster, known as @SINO...  Man used emails to trick Anthony Scaramucci an...\n",
      "..                                                 ...                                                ...\n",
      "969  Reports of actress Ayesha Takia undergoing pla...   Jump to navigationSpeak NowPlastic surgery is...\n",
      "970  With 'Jolly LLB 2' becoming actor Akshay Kumar...   Jump to navigationSpeak NowAkshay Kumar is on...\n",
      "971  A new poster of the upcoming epic historical f...   Jump to navigationSpeak NowBe it the visuals ...\n",
      "972  Indian captain Virat Kohli on Friday got out w...   Jump to navigationSpeak NowVirat Kohli, the m...\n",
      "973  After emerging as the single largest party in ...   Jump to navigationSpeak NowAs uncertainty loo...\n",
      "\n",
      "[974 rows x 2 columns]"
     ]
    }
   ],
   "source": [
    "display(news_subset)"
   ]
  },
  {
   "cell_type": "code",
   "execution_count": 36,
   "metadata": {},
   "outputs": [
    {
     "data": {
      "application/vnd.jupyter.widget-view+json": {
       "model_id": "cd4720ff69ac4261aac38bed2efc0a0a",
       "version_major": 2,
       "version_minor": 0
      },
      "text/plain": [
       "VBox()"
      ]
     },
     "metadata": {},
     "output_type": "display_data"
    },
    {
     "data": {
      "application/vnd.jupyter.widget-view+json": {
       "model_id": "",
       "version_major": 2,
       "version_minor": 0
      },
      "text/plain": [
       "FloatProgress(value=0.0, bar_style='info', description='Progress:', layout=Layout(height='25px', width='50%'),…"
      ]
     },
     "metadata": {},
     "output_type": "display_data"
    }
   ],
   "source": [
    "# drop null values and extract 2 columns which we are going to work with\n",
    "news = news_subset.dropna()\n",
    "text = news['text']\n",
    "reference = news['summary']"
   ]
  },
  {
   "cell_type": "code",
   "execution_count": 37,
   "metadata": {},
   "outputs": [
    {
     "data": {
      "application/vnd.jupyter.widget-view+json": {
       "model_id": "b003f11fa50544b3864918254f9d032d",
       "version_major": 2,
       "version_minor": 0
      },
      "text/plain": [
       "VBox()"
      ]
     },
     "metadata": {},
     "output_type": "display_data"
    },
    {
     "data": {
      "application/vnd.jupyter.widget-view+json": {
       "model_id": "",
       "version_major": 2,
       "version_minor": 0
      },
      "text/plain": [
       "FloatProgress(value=0.0, bar_style='info', description='Progress:', layout=Layout(height='25px', width='50%'),…"
      ]
     },
     "metadata": {},
     "output_type": "display_data"
    },
    {
     "name": "stdout",
     "output_type": "stream",
     "text": [
      "{'ResponseMetadata': {'RequestId': '03E389D5D572950E', 'HostId': 'Jk6BXLDqKfXqgK3Rm7w+JyGmGdVox2CikZsGu/o1ne0gHdJctX2j8ycpFEd7l/60RHsyVYNx+qk=', 'HTTPStatusCode': 200, 'HTTPHeaders': {'x-amz-id-2': 'Jk6BXLDqKfXqgK3Rm7w+JyGmGdVox2CikZsGu/o1ne0gHdJctX2j8ycpFEd7l/60RHsyVYNx+qk=', 'x-amz-request-id': '03E389D5D572950E', 'date': 'Fri, 08 May 2020 20:38:18 GMT', 'etag': '\"4d6b872afbc018e516be04662d0a7131\"', 'content-length': '0', 'server': 'AmazonS3'}, 'RetryAttempts': 0}, 'ETag': '\"4d6b872afbc018e516be04662d0a7131\"'}"
     ]
    }
   ],
   "source": [
    "# write the input dataframe containing the reference and generated summary to S3\n",
    "\n",
    "inputDF = news.to_csv(None).encode()\n",
    "s3 = boto3.resource('s3')\n",
    "object = s3.Object('bigdata-project-summary', 'input.csv')\n",
    "object.put(Body=inputDF)\n",
    "\n"
   ]
  },
  {
   "cell_type": "code",
   "execution_count": 38,
   "metadata": {},
   "outputs": [
    {
     "data": {
      "application/vnd.jupyter.widget-view+json": {
       "model_id": "43a96502f0da4deb931bd16d52ee3d6d",
       "version_major": 2,
       "version_minor": 0
      },
      "text/plain": [
       "VBox()"
      ]
     },
     "metadata": {},
     "output_type": "display_data"
    },
    {
     "data": {
      "application/vnd.jupyter.widget-view+json": {
       "model_id": "",
       "version_major": 2,
       "version_minor": 0
      },
      "text/plain": [
       "FloatProgress(value=0.0, bar_style='info', description='Progress:', layout=Layout(height='25px', width='50%'),…"
      ]
     },
     "metadata": {},
     "output_type": "display_data"
    }
   ],
   "source": [
    "frame = text.to_frame()\n",
    "newsRDD = sc.parallelize(text).map(lambda x:(x,))\n",
    "tokenDF = newsRDD.map(lambda sentence: getTokensForEachSentence(sentence[0]))\n",
    "frame['sentence'] = tokenDF.collect()\n",
    "cvDF = tokenDF.map(lambda token: applyCountVectorizerForLine(token))\n",
    "frame['vectors'] = cvDF.collect()\n",
    "graphDF = cvDF.map(lambda cv: getTFIDFScores(cv))\n",
    "frame['tf_idf'] = graphDF.collect()\n",
    "resultDF = graphDF.map(lambda graph: getPageRankScores(graph))\n",
    "frame['scores'] = resultDF.collect()"
   ]
  },
  {
   "cell_type": "code",
   "execution_count": null,
   "metadata": {},
   "outputs": [],
   "source": []
  },
  {
   "cell_type": "code",
   "execution_count": 39,
   "metadata": {},
   "outputs": [
    {
     "data": {
      "application/vnd.jupyter.widget-view+json": {
       "model_id": "d60e49cad4be4c0a88ec8cd19c7f8a94",
       "version_major": 2,
       "version_minor": 0
      },
      "text/plain": [
       "VBox()"
      ]
     },
     "metadata": {},
     "output_type": "display_data"
    },
    {
     "data": {
      "application/vnd.jupyter.widget-view+json": {
       "model_id": "",
       "version_major": 2,
       "version_minor": 0
      },
      "text/plain": [
       "FloatProgress(value=0.0, bar_style='info', description='Progress:', layout=Layout(height='25px', width='50%'),…"
      ]
     },
     "metadata": {},
     "output_type": "display_data"
    }
   ],
   "source": [
    "sentence_list = []\n",
    "for rowId, eachRow in frame.iterrows():\n",
    "    ordered = sorted(((eachRow['scores'][rowId],sent) for rowId,sent in enumerate(eachRow['sentence'])),reverse=True)\n",
    "    eachSentence = \"\"\n",
    "    for sentences in range(3):\n",
    "        if sentences < len(ordered):\n",
    "            eachSentence = eachSentence + ordered[sentences][1]\n",
    "    sentence_list.append(eachSentence)\n",
    "frame['generated'] = sentence_list\n",
    "\n",
    "referenceDF = reference.to_frame()\n",
    "generatedDF = frame['generated'].to_frame()"
   ]
  },
  {
   "cell_type": "code",
   "execution_count": 46,
   "metadata": {},
   "outputs": [
    {
     "data": {
      "application/vnd.jupyter.widget-view+json": {
       "model_id": "50116f5402bd4964a388d33fef2baebb",
       "version_major": 2,
       "version_minor": 0
      },
      "text/plain": [
       "VBox()"
      ]
     },
     "metadata": {},
     "output_type": "display_data"
    },
    {
     "data": {
      "application/vnd.jupyter.widget-view+json": {
       "model_id": "",
       "version_major": 2,
       "version_minor": 0
      },
      "text/plain": [
       "FloatProgress(value=0.0, bar_style='info', description='Progress:', layout=Layout(height='25px', width='50%'),…"
      ]
     },
     "metadata": {},
     "output_type": "display_data"
    },
    {
     "name": "stdout",
     "output_type": "stream",
     "text": [
      "                                               summary                                          generated\n",
      "0    \"The members of a Norwegian anti-immigrant gro...  This should never happen,” “Islam is and alway...\n",
      "1    Investigators have released pictures showing h...  The Air Canada pilots mistook the taxiway for ...\n",
      "2    Two sunbathers, a 56-year-old man and an eight...  “It happened very fast, there was no chance to...\n",
      "3    Abu Ismail, mastermind of the Amarnath Yatra a...  Ismail will be the new Kashmir division chief ...\n",
      "4    \"A self-styled email prankster, known as @SINO...  The Washington Post reported that Priebus was ...\n",
      "..                                                 ...                                                ...\n",
      "969  Reports of actress Ayesha Takia undergoing pla...  She also shot for a music video for Amit Mishr...\n",
      "970  With 'Jolly LLB 2' becoming actor Akshay Kumar...  For reprint rights: Syndications TodayCopyrigh...\n",
      "971  A new poster of the upcoming epic historical f...  With just 65 days to go for the grand release ...\n",
      "972  Indian captain Virat Kohli on Friday got out w...  Murali Vijay was first taken out by Josh Hazle...\n",
      "973  After emerging as the single largest party in ...  For reprint rights: Syndications TodayCopyrigh...\n",
      "\n",
      "[974 rows x 2 columns]"
     ]
    }
   ],
   "source": [
    "# create a dataframe with the summary generated and given reference summary\n",
    "comparisonDF = pandas.concat([referenceDF,generatedDF],axis =1)\n",
    "display(comparisonDF)"
   ]
  },
  {
   "cell_type": "code",
   "execution_count": 41,
   "metadata": {},
   "outputs": [
    {
     "data": {
      "application/vnd.jupyter.widget-view+json": {
       "model_id": "5cb30f308d9049c6a720c92a3be1c97a",
       "version_major": 2,
       "version_minor": 0
      },
      "text/plain": [
       "VBox()"
      ]
     },
     "metadata": {},
     "output_type": "display_data"
    },
    {
     "data": {
      "application/vnd.jupyter.widget-view+json": {
       "model_id": "",
       "version_major": 2,
       "version_minor": 0
      },
      "text/plain": [
       "FloatProgress(value=0.0, bar_style='info', description='Progress:', layout=Layout(height='25px', width='50%'),…"
      ]
     },
     "metadata": {},
     "output_type": "display_data"
    },
    {
     "name": "stdout",
     "output_type": "stream",
     "text": [
      "{'ResponseMetadata': {'RequestId': '986451B164D4DAFA', 'HostId': 'AY0TAuW/HVME0QKrZ2aIzsgGRou2eOZwiLCnY0Sfs1L419+BaX7hq3joso5LfduFd+fgXlQ8McU=', 'HTTPStatusCode': 200, 'HTTPHeaders': {'x-amz-id-2': 'AY0TAuW/HVME0QKrZ2aIzsgGRou2eOZwiLCnY0Sfs1L419+BaX7hq3joso5LfduFd+fgXlQ8McU=', 'x-amz-request-id': '986451B164D4DAFA', 'date': 'Fri, 08 May 2020 20:39:57 GMT', 'etag': '\"4d6b872afbc018e516be04662d0a7131\"', 'content-length': '0', 'server': 'AmazonS3'}, 'RetryAttempts': 0}, 'ETag': '\"4d6b872afbc018e516be04662d0a7131\"'}"
     ]
    }
   ],
   "source": [
    "# write the output dataframe containing the reference and generated summary to S3\n",
    "writeDF = comparisonDF.to_csv(None).encode()\n",
    "s3 = boto3.resource('s3')\n",
    "object = s3.Object('bigdata-project-summary', 'output.csv')\n",
    "object.put(Body=inputDF)"
   ]
  },
  {
   "cell_type": "code",
   "execution_count": 42,
   "metadata": {},
   "outputs": [
    {
     "data": {
      "application/vnd.jupyter.widget-view+json": {
       "model_id": "ff265109c1e2448895c20d2260e75593",
       "version_major": 2,
       "version_minor": 0
      },
      "text/plain": [
       "VBox()"
      ]
     },
     "metadata": {},
     "output_type": "display_data"
    },
    {
     "data": {
      "application/vnd.jupyter.widget-view+json": {
       "model_id": "",
       "version_major": 2,
       "version_minor": 0
      },
      "text/plain": [
       "FloatProgress(value=0.0, bar_style='info', description='Progress:', layout=Layout(height='25px', width='50%'),…"
      ]
     },
     "metadata": {},
     "output_type": "display_data"
    }
   ],
   "source": [
    "\n",
    "analysis = pandas.DataFrame(columns = ['Best/Average', 'Metric', 'ModelNumber', 'Precision', 'F-stat', 'Recall'])"
   ]
  },
  {
   "cell_type": "code",
   "execution_count": 43,
   "metadata": {},
   "outputs": [
    {
     "data": {
      "application/vnd.jupyter.widget-view+json": {
       "model_id": "b6a48d7348314e81b42b8a8ba94f905c",
       "version_major": 2,
       "version_minor": 0
      },
      "text/plain": [
       "VBox()"
      ]
     },
     "metadata": {},
     "output_type": "display_data"
    },
    {
     "data": {
      "application/vnd.jupyter.widget-view+json": {
       "model_id": "",
       "version_major": 2,
       "version_minor": 0
      },
      "text/plain": [
       "FloatProgress(value=0.0, bar_style='info', description='Progress:', layout=Layout(height='25px', width='50%'),…"
      ]
     },
     "metadata": {},
     "output_type": "display_data"
    },
    {
     "name": "stdout",
     "output_type": "stream",
     "text": [
      "Analysis of the generated summary with reference summary using Average for the Model- 1\n",
      "Analysis of the generated summary with reference summary using Average for the Model- 3\n",
      "Analysis of the generated summary with reference summary using Average for the Model- 5\n",
      "Analysis of the generated summary with reference summary using Average for the Model- 7\n",
      "Analysis of the generated summary with reference summary using Average for the Model- 9"
     ]
    }
   ],
   "source": [
    "# computing the performace metrics\n",
    "for num in range(1,11,2):\n",
    "    outputDF = pandas.DataFrame(columns = ['Best/Average', 'Metric', 'ModelNumber', 'Precision', 'F-stat', 'Recall'])\n",
    "    sentence_list = []\n",
    "    for rowId, eachRow in frame.iterrows():\n",
    "        ordered = sorted(((eachRow['scores'][rowId],sent) for rowId,sent in enumerate(eachRow['sentence'])),reverse=True)\n",
    "        eachSentence = \"\"\n",
    "        for sentences in range(num):\n",
    "            if sentences < len(ordered):\n",
    "                eachSentence = eachSentence + ordered[sentences][1]\n",
    "        sentence_list.append(eachSentence)\n",
    "    frame['generated'] = sentence_list\n",
    "    referenceDF = reference.to_frame()\n",
    "    outputDF = prepareScore(frame, referenceDF, num, outputDF)\n",
    "    analysis = analysis.append(outputDF)"
   ]
  },
  {
   "cell_type": "code",
   "execution_count": 45,
   "metadata": {},
   "outputs": [
    {
     "data": {
      "application/vnd.jupyter.widget-view+json": {
       "model_id": "44043ed495364e0e9c4b62bea3efd422",
       "version_major": 2,
       "version_minor": 0
      },
      "text/plain": [
       "VBox()"
      ]
     },
     "metadata": {},
     "output_type": "display_data"
    },
    {
     "data": {
      "application/vnd.jupyter.widget-view+json": {
       "model_id": "",
       "version_major": 2,
       "version_minor": 0
      },
      "text/plain": [
       "FloatProgress(value=0.0, bar_style='info', description='Progress:', layout=Layout(height='25px', width='50%'),…"
      ]
     },
     "metadata": {},
     "output_type": "display_data"
    },
    {
     "name": "stdout",
     "output_type": "stream",
     "text": [
      "  Best/Average   Metric ModelNumber  Precision     F-stat     Recall\n",
      "0      Average  rouge-1           1  19.850909  21.024375  26.888943\n",
      "1      Average  rouge-2           1   6.930425   7.593070  10.110830\n",
      "2      Average  rouge-l           1  17.625030  18.711165  22.930884\n",
      "0      Average  rouge-1           3  16.733237  24.006047  48.816843\n",
      "1      Average  rouge-2           3   6.727487   9.848899  21.001363\n",
      "2      Average  rouge-l           3  16.768692  23.352275  42.198959\n",
      "0      Average  rouge-1           5  14.298892  22.714083  60.603814\n",
      "1      Average  rouge-2           5   6.591465  10.567803  29.006910\n",
      "2      Average  rouge-l           5  15.387135  23.524340  53.302826\n",
      "0      Average  rouge-1           7  12.782078  21.197298  66.584444\n",
      "1      Average  rouge-2           7   6.262446  10.425392  33.227372\n",
      "2      Average  rouge-l           7  14.202715  22.682705  59.132627\n",
      "0      Average  rouge-1           9  11.744734  19.862449  68.553588\n",
      "1      Average  rouge-2           9   5.861658   9.936855  34.634827\n",
      "2      Average  rouge-l           9  13.201249  21.549040  61.111572"
     ]
    }
   ],
   "source": [
    "display(analysis)"
   ]
  },
  {
   "cell_type": "code",
   "execution_count": 51,
   "metadata": {},
   "outputs": [
    {
     "data": {
      "application/vnd.jupyter.widget-view+json": {
       "model_id": "8f5a9f29a8e34576852c90b9d2e531ed",
       "version_major": 2,
       "version_minor": 0
      },
      "text/plain": [
       "VBox()"
      ]
     },
     "metadata": {},
     "output_type": "display_data"
    },
    {
     "data": {
      "application/vnd.jupyter.widget-view+json": {
       "model_id": "",
       "version_major": 2,
       "version_minor": 0
      },
      "text/plain": [
       "FloatProgress(value=0.0, bar_style='info', description='Progress:', layout=Layout(height='25px', width='50%'),…"
      ]
     },
     "metadata": {},
     "output_type": "display_data"
    },
    {
     "name": "stdout",
     "output_type": "stream",
     "text": [
      "[17.625029766657715, 16.768691729464265, 15.387134788231505, 14.20271475438661, 13.201248751799794, 17.625029766657715, 16.768691729464265, 15.387134788231505, 14.20271475438661, 13.201248751799794]\n",
      "[22.93088425870308, 42.198959351164476, 53.302826268378155, 59.13262709438262, 61.111572428838954, 22.93088425870308, 42.198959351164476, 53.302826268378155, 59.13262709438262, 61.111572428838954]\n",
      "[18.711165043902643, 23.352274886241496, 23.524339549559027, 22.682704571481665, 21.549040431177858, 18.711165043902643, 23.352274886241496, 23.524339549559027, 22.682704571481665, 21.549040431177858]"
     ]
    }
   ],
   "source": [
    "print(my_metric_precision)\n",
    "print(my_metric_recall)\n",
    "print(my_metric_fstat)\n",
    "Number_sentences = [1,3,5,7,9]\n"
   ]
  },
  {
   "cell_type": "code",
   "execution_count": 52,
   "metadata": {},
   "outputs": [
    {
     "data": {
      "application/vnd.jupyter.widget-view+json": {
       "model_id": "53fd7c85373240d7ad3ad3dee2755377",
       "version_major": 2,
       "version_minor": 0
      },
      "text/plain": [
       "VBox()"
      ]
     },
     "metadata": {},
     "output_type": "display_data"
    },
    {
     "data": {
      "application/vnd.jupyter.widget-view+json": {
       "model_id": "",
       "version_major": 2,
       "version_minor": 0
      },
      "text/plain": [
       "FloatProgress(value=0.0, bar_style='info', description='Progress:', layout=Layout(height='25px', width='50%'),…"
      ]
     },
     "metadata": {},
     "output_type": "display_data"
    },
    {
     "name": "stdout",
     "output_type": "stream",
     "text": [
      "{'ResponseMetadata': {'RequestId': '12287F261B5DA5C7', 'HostId': '3sSNW2IXkzo/LO6ZXuuf1BSyjipEQTTQtKItPeObohjjIJuQlHoan/fH2wKo/H7iP9K55RDtj6I=', 'HTTPStatusCode': 200, 'HTTPHeaders': {'x-amz-id-2': '3sSNW2IXkzo/LO6ZXuuf1BSyjipEQTTQtKItPeObohjjIJuQlHoan/fH2wKo/H7iP9K55RDtj6I=', 'x-amz-request-id': '12287F261B5DA5C7', 'date': 'Fri, 08 May 2020 20:42:25 GMT', 'etag': '\"4d6b872afbc018e516be04662d0a7131\"', 'content-length': '0', 'server': 'AmazonS3'}, 'RetryAttempts': 0}, 'ETag': '\"4d6b872afbc018e516be04662d0a7131\"'}"
     ]
    }
   ],
   "source": [
    "writeDF = analysis.to_csv(None).encode()\n",
    "s3 = boto3.resource('s3')\n",
    "object = s3.Object('bigdata-project-summary', 'analysis.csv')\n",
    "object.put(Body=inputDF)"
   ]
  },
  {
   "cell_type": "code",
   "execution_count": 53,
   "metadata": {},
   "outputs": [
    {
     "data": {
      "text/plain": [
       "<BarContainer object of 5 artists>"
      ]
     },
     "execution_count": 53,
     "metadata": {},
     "output_type": "execute_result"
    },
    {
     "data": {
      "image/png": "[encoded data removed]",
      "text/plain": [
       "<Figure size 432x288 with 1 Axes>"
      ]
     },
     "metadata": {},
     "output_type": "display_data"
    }
   ],
   "source": [
    "%%local\n",
    "%matplotlib inline\n",
    "import matplotlib.pyplot as plotting\n",
    "plotting.style.use('ggplot')\n",
    "fig, axs = plotting.subplots()\n",
    "axs.bar(Number_sentences,my_metric_recall,label = \"Recall\")\n",
    "axs.bar(Number_sentences,my_metric_fstat,label = \"Fstatistics\")\n",
    "axs.bar(Number_sentences,my_metric_precision,label = \"Precision\")\n"
   ]
  },
  {
   "cell_type": "code",
   "execution_count": 54,
   "metadata": {},
   "outputs": [
    {
     "data": {
      "text/plain": [
       "Text(0.5, 0, 'Number of sentences Increases along X-axis')"
      ]
     },
     "execution_count": 54,
     "metadata": {},
     "output_type": "execute_result"
    },
    {
     "data": {
      "image/png": "[encoded data removed]",
      "text/plain": [
       "<Figure size 432x288 with 1 Axes>"
      ]
     },
     "metadata": {},
     "output_type": "display_data"
    }
   ],
   "source": [
    "%%local\n",
    "%matplotlib inline\n",
    "import matplotlib.pyplot as plotting\n",
    "plotting.style.use('ggplot')\n",
    "plotting.figure()\n",
    "plotting.plot(Number_sentences, my_metric_precision, 'r--', label ='Precision')\n",
    "plotting.plot(Number_sentences, my_metric_recall, 'b--', label ='Recall')\n",
    "plotting.plot(Number_sentences, my_metric_fstat, 'g--', label ='Fstatistics')\n",
    "axes = plotting.gca()\n",
    "axes.set_ylim([10,70])\n",
    "plotting.legend()\n",
    "plotting.ylabel('Precision,Recall,F-statistics')\n",
    "plotting.xlabel('Number of sentences Increases along X-axis')"
   ]
  },
  {
   "cell_type": "code",
   "execution_count": 55,
   "metadata": {},
   "outputs": [
    {
     "data": {
      "text/plain": [
       "Text(0.5, 0, 'Number of sentences Increases along X-axis')"
      ]
     },
     "execution_count": 55,
     "metadata": {},
     "output_type": "execute_result"
    },
    {
     "data": {
      "image/png": "[encoded data removed]",
      "text/plain": [
       "<Figure size 432x288 with 1 Axes>"
      ]
     },
     "metadata": {},
     "output_type": "display_data"
    }
   ],
   "source": [
    "%%local\n",
    "%matplotlib inline\n",
    "import matplotlib.pyplot as plotting\n",
    "plotting.style.use('ggplot')\n",
    "plotting.figure()\n",
    "plotting.plot(Number_sentences, my_metric_fstat)\n",
    "axes = plotting.gca()\n",
    "axes.set_ylim([17,25])\n",
    "plotting.legend()\n",
    "plotting.ylabel('F-statistics')\n",
    "plotting.xlabel('Number of sentences Increases along X-axis')"
   ]
  },
  {
   "cell_type": "code",
   "execution_count": null,
   "metadata": {},
   "outputs": [],
   "source": []
  }
 ],
 "metadata": {
  "kernelspec": {
   "display_name": "PySpark",
   "language": "",
   "name": "pysparkkernel"
  },
  "language_info": {
   "codemirror_mode": {
    "name": "python",
    "version": 2
   },
   "mimetype": "text/x-python",
   "name": "pyspark",
   "pygments_lexer": "python2"
  }
 },
 "nbformat": 4,
 "nbformat_minor": 4
}
